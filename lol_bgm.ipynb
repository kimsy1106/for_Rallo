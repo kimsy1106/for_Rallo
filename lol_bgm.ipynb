{
 "cells": [
  {
   "cell_type": "code",
   "execution_count": null,
   "metadata": {},
   "outputs": [],
   "source": [
    "import requests\n",
    "from requests.packages.urllib3.exceptions import InsecureRequestWarning\n",
    "import pygame\n",
    "import time\n",
    "\n",
    "requests.packages.urllib3.disable_warnings(InsecureRequestWarning)\n",
    "\n",
    "def play_music(music_file, duration):\n",
    "    # Starting the mixer\n",
    "    pygame.mixer.init()\n",
    "\n",
    "    # Loading the song\n",
    "    pygame.mixer.music.load(music_file)\n",
    "\n",
    "    # Setting the volume\n",
    "    pygame.mixer.music.set_volume(0.7)\n",
    "\n",
    "    # Start playing the song\n",
    "    pygame.mixer.music.play()\n",
    "\n",
    "    # Play for the duration specified\n",
    "    time.sleep(duration)\n",
    "\n",
    "    # Stop the mixer\n",
    "    pygame.mixer.music.stop()\n",
    "\n",
    "\n",
    "# write your nickname(In LoL)\n",
    "nickname = 'Green Day'\n",
    "\n",
    "# write your BGM filename with directory\n",
    "song_dir = './bgm/airman.mp3'\n",
    "\n",
    "#play time(second)\n",
    "playing_time = 24.5\n",
    "\n",
    "# previous kills\n",
    "previous_kills = 0"
   ]
  },
  {
   "cell_type": "code",
   "execution_count": null,
   "metadata": {},
   "outputs": [],
   "source": [
    "while True:\n",
    "\n",
    "    # get recent kills from LCD API\n",
    "    recent_kills = requests.get(f'https://127.0.0.1:2999/liveclientdata/playerscores?summonerName={nickname}', verify=False).json()['kills']\n",
    "\n",
    "    # if player kills, start playing the song\n",
    "    if recent_kills != 0 and recent_kills != previous_kills :\n",
    "\n",
    "        # Run the function with the path to the music file and the duration\n",
    "        play_music(song_dir, playing_time)\n",
    "\n",
    "    previous_kills = requests.get(f'https://127.0.0.1:2999/liveclientdata/playerscores?summonerName={nickname}', verify=False).json()['kills']\n",
    "    \n",
    "    time.sleep(0.2)"
   ]
  }
 ],
 "metadata": {
  "kernelspec": {
   "display_name": "lolpago",
   "language": "python",
   "name": "python3"
  },
  "language_info": {
   "codemirror_mode": {
    "name": "ipython",
    "version": 3
   },
   "file_extension": ".py",
   "mimetype": "text/x-python",
   "name": "python",
   "nbconvert_exporter": "python",
   "pygments_lexer": "ipython3",
   "version": "3.9.11"
  },
  "orig_nbformat": 4
 },
 "nbformat": 4,
 "nbformat_minor": 2
}
